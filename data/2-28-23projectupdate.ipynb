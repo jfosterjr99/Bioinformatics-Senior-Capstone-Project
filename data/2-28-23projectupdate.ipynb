{
 "cells": [
  {
   "cell_type": "code",
   "execution_count": 51,
   "id": "52cdb638-c255-4d51-a8d0-1494de99c7bd",
   "metadata": {},
   "outputs": [],
   "source": [
    "import csv\n",
    "from statistics import mean\n",
    "\n",
    "with open('GSE175744_RawCounts.csv', 'r') as csv_file:\n",
    "    reader = csv.reader(csv_file)\n",
    "\n",
    "    flag=0\n",
    "    MSI_Count=0\n",
    "    MSI_Gene=[]\n",
    "    for row in reader:\n",
    "        if flag > 0:\n",
    "            gene = row[0]\n",
    "            MSI = mean([int(x) for x in row[1:]])\n",
    "            if MSI > 0:\n",
    "                MSI_Count+=1\n",
    "                MSI_Gene.append(gene + '\\t' + str(round(MSI, 2)))\n",
    "        flag+=1\n",
    "f = open('output.txt', 'w')\n",
    "for gene in MSI_Gene:\n",
    "    f.write(str(gene) + '\\n')\n",
    "f.close()"
   ]
  },
  {
   "cell_type": "code",
   "execution_count": null,
   "id": "b288ee7f-bc5a-487b-945a-ef9a7dbdbab8",
   "metadata": {},
   "outputs": [],
   "source": []
  },
  {
   "cell_type": "code",
   "execution_count": null,
   "id": "46a05360",
   "metadata": {},
   "outputs": [],
   "source": []
  }
 ],
 "metadata": {
  "kernelspec": {
   "display_name": "Python 3 (ipykernel)",
   "language": "python",
   "name": "python3"
  },
  "language_info": {
   "codemirror_mode": {
    "name": "ipython",
    "version": 3
   },
   "file_extension": ".py",
   "mimetype": "text/x-python",
   "name": "python",
   "nbconvert_exporter": "python",
   "pygments_lexer": "ipython3",
   "version": "3.9.13"
  }
 },
 "nbformat": 4,
 "nbformat_minor": 5
}
