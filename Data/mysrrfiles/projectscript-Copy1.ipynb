{
 "cells": [
  {
   "cell_type": "code",
   "execution_count": 6,
   "id": "566d0ea4-5507-4169-af98-05b37286d052",
   "metadata": {},
   "outputs": [
    {
     "name": "stdout",
     "output_type": "stream",
     "text": [
      "SRR14676234 done.\n",
      "SRR14676248 done.\n",
      "SRR14676209 done.\n",
      "SRR14676235 done.\n",
      "SRR14676227 done.\n"
     ]
    }
   ],
   "source": [
    "mySRRList = ['SRR14676234', 'SRR14676248', 'SRR14676209', 'SRR14676235', 'SRR14676227']\n",
    "for srrfile in mySRRList:\n",
    "    f3 = open(srrfile + '/' + srrfile + '.fasta', 'r')\n",
    "    f4 = open(srrfile + '/' + srrfile + 'format.txt', 'a')\n",
    "    rowcount = 0\n",
    "    for line in f3:\n",
    "        rowcount+=1\n",
    "        if(rowcount > 400000):\n",
    "            f4.write(line)\n",
    "        if(rowcount == 800000):\n",
    "            break\n",
    "    f4.close()\n",
    "    f3.close()\n",
    "\n",
    "    f = open(srrfile + '/' + srrfile + 'format.txt', 'r')\n",
    "    seqposition = ''\n",
    "    mylist = []\n",
    "    for row in f:\n",
    "        if(row[0] == '>'):\n",
    "            seqposition = row[13:len(row)-12]\n",
    "            if(' ' in seqposition):\n",
    "                seqposition = seqposition[0:seqposition.find(' ')] + ':' + seqposition[seqposition.find(' ')+1:len(seqposition)]\n",
    "        else:\n",
    "            for i in range(len(row)):\n",
    "                if row[i] != '\\n':\n",
    "                    mylist.append((row[i], seqposition))\n",
    "    f.close()\n",
    "    f5 = open(srrfile + '/' + srrfile + 'format1.txt', 'a')\n",
    "    f1 = open(srrfile + '/' + srrfile + 'format2.txt', 'a')\n",
    "    for i in range(20, len(mylist)-21):\n",
    "        tupseqposition = mylist[i][1]\n",
    "        tupseq = ''\n",
    "        cpgcount = 0\n",
    "        cpgislandsfound = \"\"\n",
    "        mononucfound = ''\n",
    "        badcodon = \"\"\n",
    "        for j in range(i, i+21):\n",
    "            tupseq+=mylist[j][0]\n",
    "        for n in range(0, len(tupseq)-3, 3):\n",
    "            if(tupseq[n:n+3] == 'ATT' or tupseq[n:n+3] == 'ACT' or tupseq[n:n+3] == 'ATC'):\n",
    "                badcodon = \"Yes\"\n",
    "        for k in range(i-20, i-1):\n",
    "            if(mylist[k][0] == 'C' and mylist[k+1][0] == 'G'):\n",
    "                cpgcount+=1\n",
    "        if cpgcount > 1:\n",
    "            cpgislandsfound = \"Yes\"\n",
    "        else:\n",
    "            cpgislandsfound = \"No\"\n",
    "        for l in range(i-20, i-3):\n",
    "            if(mylist[l][0] == mylist[l+1][0]):\n",
    "                m = 2\n",
    "                pmononucfound = mylist[l][0] + mylist[l+1][0]\n",
    "                while(mylist[l+m][0] == mylist[l][0] and l+m < i):\n",
    "                    pmononucfound+=mylist[l+m][0]\n",
    "                    m+=1\n",
    "                if(len(pmononucfound) > len(mononucfound) and len(pmononucfound) > 5):\n",
    "                    mononucfound = pmononucfound\n",
    "        if(mononucfound == ''):\n",
    "            mononucfound = 'None'\n",
    "        if(mononucfound != 'None' and cpgislandsfound == \"Yes\" and 'N' not in mononucfound and 'N' not in tupseq and badcodon != \"Yes\"):\n",
    "            f5.write('>' + str(tupseqposition) + '\\n' + str(tupseq) + '\\n')\n",
    "            f1.write(str(tupseqposition) + '\\t' + str(cpgcount) + '\\t' + str(mononucfound) + '\\n')\n",
    "    print(srrfile, \"done.\")\n",
    "    f1.close()\n",
    "    f5.close()"
   ]
  },
  {
   "cell_type": "code",
   "execution_count": null,
   "id": "425d9e7d-bd7e-4815-aee7-5d43691f7f18",
   "metadata": {},
   "outputs": [],
   "source": []
  }
 ],
 "metadata": {
  "kernelspec": {
   "display_name": "Python 3 (ipykernel)",
   "language": "python",
   "name": "python3"
  },
  "language_info": {
   "codemirror_mode": {
    "name": "ipython",
    "version": 3
   },
   "file_extension": ".py",
   "mimetype": "text/x-python",
   "name": "python",
   "nbconvert_exporter": "python",
   "pygments_lexer": "ipython3",
   "version": "3.9.13"
  }
 },
 "nbformat": 4,
 "nbformat_minor": 5
}
